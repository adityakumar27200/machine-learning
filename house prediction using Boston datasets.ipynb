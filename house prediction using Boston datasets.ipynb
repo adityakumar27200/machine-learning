{
 "cells": [
  {
   "cell_type": "code",
   "execution_count": 1,
   "metadata": {},
   "outputs": [],
   "source": [
    "import numpy as np\n",
    "import pandas as pd\n",
    "from sklearn import datasets,linear_model\n",
    "from sklearn.model_selection import train_test_split\n",
    "#from sklearn.datasets import load_bosten"
   ]
  },
  {
   "cell_type": "code",
   "execution_count": 2,
   "metadata": {},
   "outputs": [],
   "source": [
    "# load boston data using sklearn datasets\n",
    "boston=datasets.load_boston()\n",
    "\n",
    "# seprate data and target  \n",
    "x=boston.data\n",
    "y=boston.target\n",
    "#print(x,y)"
   ]
  },
  {
   "cell_type": "code",
   "execution_count": 3,
   "metadata": {},
   "outputs": [],
   "source": [
    "#tabular data structure with labeled axes (rows and columns)\n",
    "df_x=pd.DataFrame(x,columns=boston.feature_names)\n",
    "df_y=pd.DataFrame(y)\n",
    "#print(df_x)\n",
    "#print(df_y)"
   ]
  },
  {
   "cell_type": "code",
   "execution_count": 4,
   "metadata": {},
   "outputs": [],
   "source": [
    "# create a model\n",
    "reg=linear_model.LinearRegression()\n"
   ]
  },
  {
   "cell_type": "code",
   "execution_count": 5,
   "metadata": {},
   "outputs": [],
   "source": [
    "#split data \n",
    "x_train,x_test,y_train,y_test=train_test_split(df_x,df_y,test_size=0.30,random_state=1)"
   ]
  },
  {
   "cell_type": "code",
   "execution_count": 6,
   "metadata": {},
   "outputs": [
    {
     "data": {
      "text/plain": [
       "LinearRegression()"
      ]
     },
     "execution_count": 6,
     "metadata": {},
     "output_type": "execute_result"
    }
   ],
   "source": [
    "#fit the model\n",
    "reg.fit(x_train,y_train)"
   ]
  },
  {
   "cell_type": "code",
   "execution_count": 7,
   "metadata": {},
   "outputs": [
    {
     "data": {
      "text/plain": [
       "array([[-9.85424717e-02,  6.07841138e-02,  5.91715401e-02,\n",
       "         2.43955988e+00, -2.14699650e+01,  2.79581385e+00,\n",
       "         3.57459778e-03, -1.51627218e+00,  3.07541745e-01,\n",
       "        -1.12800166e-02, -1.00546640e+00,  6.45018446e-03,\n",
       "        -5.68834539e-01]])"
      ]
     },
     "execution_count": 7,
     "metadata": {},
     "output_type": "execute_result"
    }
   ],
   "source": [
    "#Y=mx+c or Y=b0+b1x\n",
    "# m and b1 is coefficient\n",
    "reg.coef_\n"
   ]
  },
  {
   "cell_type": "code",
   "execution_count": 8,
   "metadata": {},
   "outputs": [
    {
     "data": {
      "text/plain": [
       "array([46.39649387])"
      ]
     },
     "execution_count": 8,
     "metadata": {},
     "output_type": "execute_result"
    }
   ],
   "source": [
    "# c and b0 is intercept\n",
    "reg.intercept_"
   ]
  },
  {
   "cell_type": "code",
   "execution_count": 9,
   "metadata": {},
   "outputs": [],
   "source": [
    "# predict tne model\n",
    "y_pred=reg.predict(x_test)"
   ]
  },
  {
   "cell_type": "code",
   "execution_count": 10,
   "metadata": {},
   "outputs": [
    {
     "data": {
      "text/plain": [
       "array([[32.3914647 ],\n",
       "       [27.94401279],\n",
       "       [17.83762764],\n",
       "       [21.66941388],\n",
       "       [18.93639614],\n",
       "       [20.01995795],\n",
       "       [32.63414961],\n",
       "       [17.86179976],\n",
       "       [24.73211676],\n",
       "       [26.77346826],\n",
       "       [27.26138023],\n",
       "       [28.63243014],\n",
       "       [21.16103038],\n",
       "       [27.15098589],\n",
       "       [23.33198614],\n",
       "       [21.02894005],\n",
       "       [17.11819755],\n",
       "       [37.52455938],\n",
       "       [30.69864427],\n",
       "       [ 8.46104486],\n",
       "       [20.83966032],\n",
       "       [16.26732451],\n",
       "       [25.05030307],\n",
       "       [24.8069032 ],\n",
       "       [31.6789299 ],\n",
       "       [10.98989363],\n",
       "       [13.54111562],\n",
       "       [16.54697099],\n",
       "       [35.86699683],\n",
       "       [14.69589266],\n",
       "       [21.05655107],\n",
       "       [13.90301353],\n",
       "       [43.01321262],\n",
       "       [17.80335305],\n",
       "       [21.68817023],\n",
       "       [20.45077825],\n",
       "       [17.38095983],\n",
       "       [26.81334904],\n",
       "       [10.08706217],\n",
       "       [19.96174586],\n",
       "       [24.1983249 ],\n",
       "       [21.00202622],\n",
       "       [29.38682967],\n",
       "       [16.33215467],\n",
       "       [19.37439646],\n",
       "       [14.45525235],\n",
       "       [39.52670798],\n",
       "       [18.18535021],\n",
       "       [26.38536303],\n",
       "       [20.41420863],\n",
       "       [25.08511581],\n",
       "       [24.40208165],\n",
       "       [24.87902769],\n",
       "       [26.97887956],\n",
       "       [ 4.93921657],\n",
       "       [24.0001365 ],\n",
       "       [10.66711602],\n",
       "       [26.98494775],\n",
       "       [16.63507993],\n",
       "       [35.31652989],\n",
       "       [19.49249915],\n",
       "       [27.37577863],\n",
       "       [16.53965715],\n",
       "       [19.09746715],\n",
       "       [11.06765336],\n",
       "       [32.03445261],\n",
       "       [36.15847648],\n",
       "       [21.53547868],\n",
       "       [24.96434626],\n",
       "       [25.50601154],\n",
       "       [23.41203509],\n",
       "       [ 7.20513615],\n",
       "       [16.8659937 ],\n",
       "       [20.06269471],\n",
       "       [20.61979368],\n",
       "       [21.97238475],\n",
       "       [34.25908683],\n",
       "       [27.9998298 ],\n",
       "       [24.95261644],\n",
       "       [34.74201458],\n",
       "       [18.63786454],\n",
       "       [23.95355085],\n",
       "       [34.50655345],\n",
       "       [13.15979729],\n",
       "       [20.53691051],\n",
       "       [30.29844955],\n",
       "       [16.932953  ],\n",
       "       [24.29285934],\n",
       "       [19.11800155],\n",
       "       [16.9848188 ],\n",
       "       [26.80165303],\n",
       "       [40.90027245],\n",
       "       [14.43790215],\n",
       "       [23.20589688],\n",
       "       [15.39439519],\n",
       "       [21.77332361],\n",
       "       [22.85660249],\n",
       "       [29.45718412],\n",
       "       [36.54373379],\n",
       "       [20.36577747],\n",
       "       [18.01790611],\n",
       "       [17.41615519],\n",
       "       [25.23381893],\n",
       "       [21.98069747],\n",
       "       [ 8.3160445 ],\n",
       "       [21.49942727],\n",
       "       [16.565317  ],\n",
       "       [33.22680671],\n",
       "       [24.39944797],\n",
       "       [24.99055027],\n",
       "       [38.37532568],\n",
       "       [28.82033178],\n",
       "       [14.76287071],\n",
       "       [34.72063358],\n",
       "       [35.40686066],\n",
       "       [32.93299015],\n",
       "       [20.95996646],\n",
       "       [16.74324182],\n",
       "       [34.54769634],\n",
       "       [38.9463732 ],\n",
       "       [21.47971843],\n",
       "       [15.54203787],\n",
       "       [27.46719043],\n",
       "       [18.62729405],\n",
       "       [27.3819011 ],\n",
       "       [21.13549164],\n",
       "       [26.24403323],\n",
       "       [22.22010257],\n",
       "       [23.34295812],\n",
       "       [28.29923408],\n",
       "       [20.53788412],\n",
       "       [23.94639233],\n",
       "       [29.8421088 ],\n",
       "       [10.55075792],\n",
       "       [27.02280253],\n",
       "       [32.41641579],\n",
       "       [13.94180705],\n",
       "       [13.62057726],\n",
       "       [33.00870341],\n",
       "       [14.2836798 ],\n",
       "       [17.70899424],\n",
       "       [16.30194776],\n",
       "       [17.14377392],\n",
       "       [28.71467061],\n",
       "       [34.07548297],\n",
       "       [20.31288796],\n",
       "       [24.55801246],\n",
       "       [17.32995936],\n",
       "       [28.3602341 ],\n",
       "       [20.79422791],\n",
       "       [33.6981572 ],\n",
       "       [13.51882716]])"
      ]
     },
     "execution_count": 10,
     "metadata": {},
     "output_type": "execute_result"
    }
   ],
   "source": [
    "y_pred\n"
   ]
  },
  {
   "cell_type": "code",
   "execution_count": 11,
   "metadata": {},
   "outputs": [
    {
     "data": {
      "text/html": [
       "<div>\n",
       "<style scoped>\n",
       "    .dataframe tbody tr th:only-of-type {\n",
       "        vertical-align: middle;\n",
       "    }\n",
       "\n",
       "    .dataframe tbody tr th {\n",
       "        vertical-align: top;\n",
       "    }\n",
       "\n",
       "    .dataframe thead th {\n",
       "        text-align: right;\n",
       "    }\n",
       "</style>\n",
       "<table border=\"1\" class=\"dataframe\">\n",
       "  <thead>\n",
       "    <tr style=\"text-align: right;\">\n",
       "      <th></th>\n",
       "      <th>0</th>\n",
       "    </tr>\n",
       "  </thead>\n",
       "  <tbody>\n",
       "    <tr>\n",
       "      <th>307</th>\n",
       "      <td>28.2</td>\n",
       "    </tr>\n",
       "    <tr>\n",
       "      <th>343</th>\n",
       "      <td>23.9</td>\n",
       "    </tr>\n",
       "    <tr>\n",
       "      <th>47</th>\n",
       "      <td>16.6</td>\n",
       "    </tr>\n",
       "    <tr>\n",
       "      <th>67</th>\n",
       "      <td>22.0</td>\n",
       "    </tr>\n",
       "    <tr>\n",
       "      <th>362</th>\n",
       "      <td>20.8</td>\n",
       "    </tr>\n",
       "    <tr>\n",
       "      <th>...</th>\n",
       "      <td>...</td>\n",
       "    </tr>\n",
       "    <tr>\n",
       "      <th>467</th>\n",
       "      <td>19.1</td>\n",
       "    </tr>\n",
       "    <tr>\n",
       "      <th>95</th>\n",
       "      <td>28.4</td>\n",
       "    </tr>\n",
       "    <tr>\n",
       "      <th>122</th>\n",
       "      <td>20.5</td>\n",
       "    </tr>\n",
       "    <tr>\n",
       "      <th>260</th>\n",
       "      <td>33.8</td>\n",
       "    </tr>\n",
       "    <tr>\n",
       "      <th>23</th>\n",
       "      <td>14.5</td>\n",
       "    </tr>\n",
       "  </tbody>\n",
       "</table>\n",
       "<p>152 rows × 1 columns</p>\n",
       "</div>"
      ],
      "text/plain": [
       "        0\n",
       "307  28.2\n",
       "343  23.9\n",
       "47   16.6\n",
       "67   22.0\n",
       "362  20.8\n",
       "..    ...\n",
       "467  19.1\n",
       "95   28.4\n",
       "122  20.5\n",
       "260  33.8\n",
       "23   14.5\n",
       "\n",
       "[152 rows x 1 columns]"
      ]
     },
     "execution_count": 11,
     "metadata": {},
     "output_type": "execute_result"
    }
   ],
   "source": [
    "y_test"
   ]
  },
  {
   "cell_type": "code",
   "execution_count": 12,
   "metadata": {},
   "outputs": [
    {
     "data": {
      "text/plain": [
       "0    19.831324\n",
       "dtype: float64"
      ]
     },
     "execution_count": 12,
     "metadata": {},
     "output_type": "execute_result"
    }
   ],
   "source": [
    "# MSE(Mean Squared Error) using formula\n",
    "np.mean((y_pred-y_test)**2)"
   ]
  },
  {
   "cell_type": "code",
   "execution_count": 13,
   "metadata": {},
   "outputs": [
    {
     "data": {
      "text/plain": [
       "19.831323672062975"
      ]
     },
     "execution_count": 13,
     "metadata": {},
     "output_type": "execute_result"
    }
   ],
   "source": [
    "# MSE using libreary\n",
    "from sklearn.metrics import mean_squared_error\n",
    "\n",
    "mean_squared_error(y_pred,y_test)"
   ]
  }
 ],
 "metadata": {
  "kernelspec": {
   "display_name": "Python 3",
   "language": "python",
   "name": "python3"
  },
  "language_info": {
   "codemirror_mode": {
    "name": "ipython",
    "version": 3
   },
   "file_extension": ".py",
   "mimetype": "text/x-python",
   "name": "python",
   "nbconvert_exporter": "python",
   "pygments_lexer": "ipython3",
   "version": "3.8.3"
  }
 },
 "nbformat": 4,
 "nbformat_minor": 4
}
